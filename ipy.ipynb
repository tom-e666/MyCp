{
 "cells": [
  {
   "cell_type": "code",
   "execution_count": 6,
   "metadata": {},
   "outputs": [
    {
     "name": "stdout",
     "output_type": "stream",
     "text": [
      "20\n",
      "aaabc aaacb aabac aabca aacba aacab abaac abaca abcaa acaba acaab acbaa baaac baaca bacaa bcaaa caaba caaab cabaa cbaaa\n"
     ]
    }
   ],
   "source": [
    "#string permutate\n",
    "s='aabac'\n",
    "out=[]\n",
    "cnt=0\n",
    "def permutate(i,n,s):\n",
    "    global cnt\n",
    "    global out\n",
    "    if i==n:\n",
    "        cnt+=1\n",
    "        out.append(''.join(s))\n",
    "        return\n",
    "    for j in range (i,n,1):\n",
    "        if i!=j and s[i]==s[j]:\n",
    "            continue\n",
    "        s[i],s[j]=s[j],s[i]\n",
    "        permutate(i+1,n,list(s))\n",
    "        s[i],s[j]=s[j],s[i]\n",
    "s=sorted(s)\n",
    "permutate(0,len(s),s)\n",
    "print(cnt)\n",
    "print(' '.join(out))"
   ]
  },
  {
   "cell_type": "code",
   "execution_count": null,
   "metadata": {},
   "outputs": [],
   "source": []
  }
 ],
 "metadata": {
  "kernelspec": {
   "display_name": "base",
   "language": "python",
   "name": "python3"
  },
  "language_info": {
   "codemirror_mode": {
    "name": "ipython",
    "version": 3
   },
   "file_extension": ".py",
   "mimetype": "text/x-python",
   "name": "python",
   "nbconvert_exporter": "python",
   "pygments_lexer": "ipython3",
   "version": "3.11.5"
  }
 },
 "nbformat": 4,
 "nbformat_minor": 2
}
